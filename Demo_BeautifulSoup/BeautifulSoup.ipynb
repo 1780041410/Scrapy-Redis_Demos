{
 "cells": [
  {
   "cell_type": "markdown",
   "metadata": {
    "collapsed": true
   },
   "source": [
    "# BeautifulSoup笔记："
   ]
  },
  {
   "cell_type": "markdown",
   "metadata": {},
   "source": [
    "## 一、find_all的使用\n",
    "#### 1.在提取标签的时候，第一个参数是标签的名字，然后如果在提取标签的时候想要使用标签属性过滤，那么可以在这个方法中通过关键字参数的形式，将属性的名字以及对应的值传进去；或是使用'attrs'属性，将所有的属性以及对应的值，放在一个字典中，传递给'attrs'属性\n",
    "#### 2.有些时候，在提取标签的时候，不想提取那么多，可以使用'limit'参数，限制提取多少个"
   ]
  },
  {
   "cell_type": "markdown",
   "metadata": {},
   "source": [
    "## 二、find与find_all的区别：\n",
    "#### 1.find：找到第一个满足条件的标签就返回，说白了就只返回一个元素\n",
    "#### 2.find_all：将所有满足条件的标签都返回，会返回很多标签，以列表的形式"
   ]
  },
  {
   "cell_type": "markdown",
   "metadata": {},
   "source": [
    "## 三、使用find和find_all的过滤条件：\n",
    "#### 1.关键字参数：将属性的名字作为关键字参数的名字，以及属性的值作为关键字参数的值进行过滤\n",
    "#### 2.attrs参数：将属性条件放到一个字典中，传给attrs参数"
   ]
  },
  {
   "cell_type": "markdown",
   "metadata": {},
   "source": [
    "## 四、获取标签的属性：\n",
    "#### 1.通过下标获取：通过标签的下标的方式\n",
    "```python\n",
    "\thref = a['href']\n",
    "```\n",
    "#### 2.通过attrs属性获取，示例代码如下：\n",
    "```python\n",
    "\thref = a.attrs['href']\n",
    "```"
   ]
  },
  {
   "cell_type": "markdown",
   "metadata": {},
   "source": [
    "## 五、string和strings、stripped_strings属性以及get_text方法：\n",
    "#### 1.string:获取某个标签下的非标字符串，返回来的是个字符串\n",
    "#### 2.strings:获取某个标签下的子孙非标签字符串，返回来的是个生成器\n",
    "#### 3.stripped_strings:获取某个标签下的子孙非标签字符串，会去掉空白字符，返回来的是个生成器\n",
    "#### 4.get_text:获取某个标签下的子孙非标签字符串，不是以列表的形式返回，是以普通字符串返回"
   ]
  },
  {
   "cell_type": "markdown",
   "metadata": {},
   "source": [
    "# CSS选择器"
   ]
  },
  {
   "cell_type": "markdown",
   "metadata": {},
   "source": [
    "### 1.根据标签的名字选择，示例代码如下：\n",
    "```css\n",
    "   p{\n",
    "\tbackground-color:pink;\n",
    "   }\n",
    "```"
   ]
  },
  {
   "cell_type": "markdown",
   "metadata": {},
   "source": [
    "### 2.根据类名选择，要在类的前面加一个点，示例代码如下：\n",
    "```css\n",
    "   .line{\n",
    "\tbackground-color:pink;\n",
    "   }\n",
    "```"
   ]
  },
  {
   "cell_type": "markdown",
   "metadata": {},
   "source": [
    "### 3.根据id名字选择，要在id的前面加一个#号，示例代码如下：\n",
    "```css\n",
    "   #box{\n",
    "\tbackground-color:pink;\n",
    "   }\n",
    "```"
   ]
  },
  {
   "cell_type": "markdown",
   "metadata": {},
   "source": [
    "### 4.查找子孙元素，要在子孙元素中间有一个空格，示例代码如下：\n",
    "```css\n",
    "   #box p{\n",
    "\tbackground-color:pink;\n",
    "   }\n",
    "```"
   ]
  },
  {
   "cell_type": "markdown",
   "metadata": {},
   "source": [
    "### 5.查找直接子元素，要在父子元素中间加一个>符号，示例代码如下：\n",
    "```css\n",
    "   #box > p{\n",
    "\tbackground-color:pink;\n",
    "   }\n",
    "```"
   ]
  },
  {
   "cell_type": "markdown",
   "metadata": {},
   "source": [
    "### 6.根据属性的名字进行查找，应该先写标签名字，然后再在中括号中写属性的值，示例代码如下：\n",
    "```css\n",
    "   input[name='username'] {\n",
    "\tbackground-color:pink;\n",
    "   }\n",
    "```"
   ]
  },
  {
   "cell_type": "markdown",
   "metadata": {},
   "source": [
    "### 7.在根据类名或者id进行查找的时候，如果还需要根据标签进行过滤，那么可以在类的前面或id的前面加上标签的名字，示例代码如下：\n",
    "```css\n",
    "   div#line{\n",
    "\tbackground-color:pink;\n",
    "   }\n",
    "   div.line{\n",
    "\tbackground-color:pink;\n",
    "   }\n",
    "```"
   ]
  },
  {
   "cell_type": "markdown",
   "metadata": {},
   "source": [
    "#### 关于CSS选择器的扩展，可以参考：\n",
    "####《30个你必须记住的CSS选择符 》 https://yanhaijing.com/css/2014/01/04/the-30-css-selectors-you-must-memorize/\n",
    "#### 原文地址：“The 30 CSS Selectors you Must Memorize”\n",
    "#### https://code.tutsplus.com/tutorials/the-30-css-selectors-you-must-memorize--net-16048"
   ]
  },
  {
   "cell_type": "code",
   "execution_count": null,
   "metadata": {},
   "outputs": [],
   "source": [
    "<!DOCTYPE html>\n",
    "<html>\n",
    "<head>\n",
    "\t<title></title>\n",
    "\t<style type=\"text/css\">\n",
    "\t\tdiv.line1{\n",
    "\t\t\tbackground-color: grey;\n",
    "\t\t}\n",
    "\t</style>\n",
    "</head>\n",
    "<body>\n",
    "\t<div class=\"box\">\n",
    "\t\t<div>\n",
    "\t\t\t<p>第零行数据</p>\n",
    "\t\t</div>\n",
    "\t\t<p class=\"line1\">第一行数据</p>\n",
    "\t\t<p class=\"line1\">第二行数据</p>\n",
    "\t\t<div class=\"line1\">div中的数据</div>\n",
    "\t\t<p id=\"line3\">第三行数据</p>\n",
    "\t</div>\n",
    "\t<p>第四行数据</p>\n",
    "\t<form>\n",
    "\t\t<input type=\"text\" name=\"username\">\n",
    "\t\t<input type=\"text\" name=\"password\">\n",
    "\t</form>\n",
    "</body>\n",
    "</html>"
   ]
  },
  {
   "cell_type": "markdown",
   "metadata": {},
   "source": [
    "## BeautifulSoup中使用css选择器：\n",
    "#### 在'BeautifulSoup'中，要使用css选择器，应该使用'soup.select()'方法，应该传递一个css选择器的字符串给select方法\n"
   ]
  },
  {
   "cell_type": "code",
   "execution_count": null,
   "metadata": {},
   "outputs": [],
   "source": []
  }
 ],
 "metadata": {
  "kernelspec": {
   "display_name": "Python 2",
   "language": "python",
   "name": "python2"
  },
  "language_info": {
   "codemirror_mode": {
    "name": "ipython",
    "version": 2
   },
   "file_extension": ".py",
   "mimetype": "text/x-python",
   "name": "python",
   "nbconvert_exporter": "python",
   "pygments_lexer": "ipython2",
   "version": "2.7.6"
  }
 },
 "nbformat": 4,
 "nbformat_minor": 0
}
