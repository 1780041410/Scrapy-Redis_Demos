{
 "cells": [
  {
   "cell_type": "markdown",
   "metadata": {
    "collapsed": true
   },
   "source": [
    "# BeautifulSoup笔记："
   ]
  },
  {
   "cell_type": "markdown",
   "metadata": {},
   "source": [
    "## 一、find_all的使用\n",
    "#### 1.在提取标签的时候，第一个参数是标签的名字，然后如果在提取标签的时候想要使用标签属性过滤，那么可以在这个方法中通过关键字参数的形式，将属性的名字以及对应的值传进去；或是使用'attrs'属性，将所有的属性以及对应的值，放在一个字典中，传递给'attrs'属性\n",
    "#### 2.有些时候，在提取标签的时候，不想提取那么多，可以使用'limit'参数，限制提取多少个"
   ]
  },
  {
   "cell_type": "markdown",
   "metadata": {},
   "source": [
    "## 二、find与find_all的区别：\n",
    "#### 1.find：找到第一个满足条件的标签就返回，说白了就只返回一个元素\n",
    "#### 2.find_all：将所有满足条件的标签都返回，会返回很多标签，以列表的形式"
   ]
  },
  {
   "cell_type": "markdown",
   "metadata": {},
   "source": [
    "## 三、使用find和find_all的过滤条件：\n",
    "#### 1.关键字参数：将属性的名字作为关键字参数的名字，以及属性的值作为关键字参数的值进行过滤\n",
    "#### 2.attrs参数：将属性条件放到一个字典中，传给attrs参数"
   ]
  },
  {
   "cell_type": "markdown",
   "metadata": {},
   "source": [
    "## 四、获取标签的属性：\n",
    "#### 1.通过下标获取：通过标签的下标的方式\n",
    "```python\n",
    "\thref = a['href']\n",
    "```\n",
    "#### 2.通过attrs属性获取，示例代码如下：\n",
    "```python\n",
    "\thref = a.attrs['href']\n",
    "```"
   ]
  },
  {
   "cell_type": "markdown",
   "metadata": {},
   "source": [
    "## 五、strings和stripped_strings、string属性以及get_text方法：\n",
    "#### 1.string:获取某个标签下的非标字符串，返回来的是个字符串\n",
    "#### 2.strings:获取某个标签下的子孙非标签字符串，返回来的是个生成器\n",
    "#### 3.stripped_strings:获取某个标签下的子孙非标签字符串，会去掉空白字符，返回来的是个生成器\n",
    "#### 4.get_text:获取某个标签下的子孙非标签字符串，不是以列表的形式返回，是以普通字符串返回"
   ]
  }
 ],
 "metadata": {
  "kernelspec": {
   "display_name": "Python 2",
   "language": "python",
   "name": "python2"
  },
  "language_info": {
   "codemirror_mode": {
    "name": "ipython",
    "version": 2
   },
   "file_extension": ".py",
   "mimetype": "text/x-python",
   "name": "python",
   "nbconvert_exporter": "python",
   "pygments_lexer": "ipython2",
   "version": "2.7.6"
  }
 },
 "nbformat": 4,
 "nbformat_minor": 0
}
