{
 "cells": [
  {
   "cell_type": "markdown",
   "metadata": {
    "collapsed": true
   },
   "source": [
    "## 常见的四种对象：\n",
    "\n",
    "#### 1.Tag：BeautifulSoup中的所有标签都是Tag类型，并且BeautifulSoup的对象其实本质上也是一个Tag类型，所以其实一些方法比如find、find_all并不是BeautifulSoup的，而是Tag的\n",
    "#### 2.NavigableString：继承自Python中的str，用起来跟使用Python中的str是一样的\n",
    "#### 3.BeautifulSoup：继承自Tag，用来生成BeautifulSoup树的。对于一些查找方法，比如find、select这些，其实还是Tag的\n",
    "#### 4.Comment：继承自NavigableString"
   ]
  },
  {
   "cell_type": "markdown",
   "metadata": {},
   "source": [
    "### contents和children：\n",
    "#### 返回某个标签下的直接子元素，其中也包括字符串。\n",
    "#### 区别：contents返回来的是一个列表；children返回来的是一个迭代器"
   ]
  },
  {
   "cell_type": "code",
   "execution_count": null,
   "metadata": {
    "collapsed": true
   },
   "outputs": [],
   "source": []
  },
  {
   "cell_type": "markdown",
   "metadata": {},
   "source": [
    "### 补充（之前讲到的string，详见前ipynb）：\n",
    "#### string：如果这个标签下you多行字符，那么就不能获取到了"
   ]
  },
  {
   "cell_type": "code",
   "execution_count": null,
   "metadata": {
    "collapsed": true
   },
   "outputs": [],
   "source": []
  }
 ],
 "metadata": {
  "kernelspec": {
   "display_name": "Python 3",
   "language": "python",
   "name": "python3"
  },
  "language_info": {
   "codemirror_mode": {
    "name": "ipython",
    "version": 3
   },
   "file_extension": ".py",
   "mimetype": "text/x-python",
   "name": "python",
   "nbconvert_exporter": "python",
   "pygments_lexer": "ipython3",
   "version": "3.6.3"
  }
 },
 "nbformat": 4,
 "nbformat_minor": 1
}
